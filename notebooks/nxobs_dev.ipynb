{
 "cells": [
  {
   "cell_type": "code",
   "execution_count": null,
   "metadata": {},
   "outputs": [],
   "source": [
    "import"
   ]
  }
 ],
 "metadata": {
  "kernelspec": {
   "display_name": "Python 3.10.8 ('nxobs')",
   "language": "python",
   "name": "python3"
  },
  "language_info": {
   "name": "python",
   "version": "3.10.8"
  },
  "orig_nbformat": 4,
  "vscode": {
   "interpreter": {
    "hash": "2109ab24d9783fbae964fe858bc8b86c5979a53181e75f38faf7074c1edd98e4"
   }
  }
 },
 "nbformat": 4,
 "nbformat_minor": 2
}
